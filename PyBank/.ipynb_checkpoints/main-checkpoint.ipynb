{
 "cells": [
  {
   "cell_type": "code",
   "execution_count": 139,
   "metadata": {},
   "outputs": [],
   "source": [
    "#importing pandas and defining the dataframe\n",
    "\n",
    "import pandas as pd\n",
    "df = pd.read_csv(\"budget_data.csv\")\n",
    "df2 = pd.read_csv(\"budget_data.csv\")"
   ]
  },
  {
   "cell_type": "code",
   "execution_count": 140,
   "metadata": {},
   "outputs": [
    {
     "name": "stdout",
     "output_type": "stream",
     "text": [
      "      Date  Profit/Losses\n",
      "0   Jan-10         867884\n",
      "1   Feb-10         984655\n",
      "2   Mar-10         322013\n",
      "3   Apr-10         -69417\n",
      "4   May-10         310503\n",
      "..     ...            ...\n",
      "81  Oct-16         102685\n",
      "82  Nov-16         795914\n",
      "83  Dec-16          60988\n",
      "84  Jan-17         138230\n",
      "85  Feb-17         671099\n",
      "\n",
      "[86 rows x 2 columns]\n"
     ]
    }
   ],
   "source": [
    "#checking prior command\n",
    "print(df)"
   ]
  },
  {
   "cell_type": "code",
   "execution_count": 141,
   "metadata": {},
   "outputs": [],
   "source": [
    "monthy_pnl = df['Profit/Losses']"
   ]
  },
  {
   "cell_type": "code",
   "execution_count": 142,
   "metadata": {},
   "outputs": [],
   "source": [
    "#calculating number of periods in dataset\n",
    "num_months = (df.shape[0])"
   ]
  },
  {
   "cell_type": "code",
   "execution_count": 143,
   "metadata": {},
   "outputs": [
    {
     "name": "stdout",
     "output_type": "stream",
     "text": [
      "86\n"
     ]
    }
   ],
   "source": [
    "print(num_months)"
   ]
  },
  {
   "cell_type": "code",
   "execution_count": 144,
   "metadata": {},
   "outputs": [],
   "source": [
    "# calculating net profits for all periods\n",
    "net_profits = df.sum()"
   ]
  },
  {
   "cell_type": "code",
   "execution_count": 145,
   "metadata": {},
   "outputs": [
    {
     "name": "stdout",
     "output_type": "stream",
     "text": [
      "Date             Jan-10Feb-10Mar-10Apr-10May-10Jun-10Jul-10Aug-...\n",
      "Profit/Losses                                             38382578\n",
      "dtype: object\n"
     ]
    }
   ],
   "source": [
    "print(net_profits)"
   ]
  },
  {
   "cell_type": "code",
   "execution_count": 114,
   "metadata": {},
   "outputs": [
    {
     "data": {
      "text/plain": [
       "Date             object\n",
       "Profit/Losses     int64\n",
       "dtype: object"
      ]
     },
     "execution_count": 114,
     "metadata": {},
     "output_type": "execute_result"
    }
   ],
   "source": [
    "#importing numpy library\n",
    "\n",
    "import numpy as np\n",
    "\n",
    "df.dtypes\n"
   ]
  },
  {
   "cell_type": "code",
   "execution_count": 115,
   "metadata": {},
   "outputs": [],
   "source": [
    "#checking datatypes and selecting what needs to be included in below calculation\n",
    "pnl_int = df.select_dtypes(include = ['int64'])"
   ]
  },
  {
   "cell_type": "code",
   "execution_count": 116,
   "metadata": {},
   "outputs": [],
   "source": [
    "#calculating difference in profit and loss between prior and next period for data set\n",
    "pnl_difference = pnl_int.diff()\n"
   ]
  },
  {
   "cell_type": "code",
   "execution_count": 117,
   "metadata": {},
   "outputs": [
    {
     "name": "stdout",
     "output_type": "stream",
     "text": [
      "    Profit/Losses\n",
      "0             NaN\n",
      "1        116771.0\n",
      "2       -662642.0\n",
      "3       -391430.0\n",
      "4        379920.0\n",
      "..            ...\n",
      "81      -665765.0\n",
      "82       693229.0\n",
      "83      -734926.0\n",
      "84        77242.0\n",
      "85       532869.0\n",
      "\n",
      "[86 rows x 1 columns]\n"
     ]
    }
   ],
   "source": [
    "print(pnl_difference)"
   ]
  },
  {
   "cell_type": "code",
   "execution_count": 209,
   "metadata": {},
   "outputs": [
    {
     "name": "stdout",
     "output_type": "stream",
     "text": [
      "Profit/Losses   -2289.0\n",
      "dtype: float64\n"
     ]
    }
   ],
   "source": [
    "#calculating the average of the change in Profit/Loss over the entire dataset\n",
    "\n",
    "pnl_change = pnl_difference.sum() // num_months\n",
    "print(pnl_change)"
   ]
  },
  {
   "cell_type": "code",
   "execution_count": 119,
   "metadata": {},
   "outputs": [],
   "source": [
    "# identifying the greatest increase in profits \n",
    "max_increase = pnl_difference.max()"
   ]
  },
  {
   "cell_type": "code",
   "execution_count": 123,
   "metadata": {},
   "outputs": [
    {
     "name": "stdout",
     "output_type": "stream",
     "text": [
      "Profit/Losses    1926159.0\n",
      "dtype: float64\n"
     ]
    }
   ],
   "source": [
    "print(max_increase)"
   ]
  },
  {
   "cell_type": "code",
   "execution_count": 121,
   "metadata": {},
   "outputs": [
    {
     "name": "stdout",
     "output_type": "stream",
     "text": [
      "Profit/Losses   -2196167.0\n",
      "dtype: float64\n"
     ]
    }
   ],
   "source": [
    "#identifying the greatest drop\n",
    "\n",
    "max_decrease = pnl_difference.min()\n",
    "print(max_decrease)"
   ]
  },
  {
   "cell_type": "code",
   "execution_count": 132,
   "metadata": {},
   "outputs": [
    {
     "name": "stdout",
     "output_type": "stream",
     "text": [
      "86\n"
     ]
    }
   ],
   "source": [
    "# checking lenght for merge\n",
    "len_df2 = (df2.shape[0])\n",
    "print(len_df2)"
   ]
  },
  {
   "cell_type": "code",
   "execution_count": 133,
   "metadata": {},
   "outputs": [
    {
     "name": "stdout",
     "output_type": "stream",
     "text": [
      "86\n"
     ]
    }
   ],
   "source": [
    "#checking length for merge\n",
    "len_pnl_difference = (pnl_difference.shape[0])\n",
    "print(len_pnl_difference)"
   ]
  },
  {
   "cell_type": "code",
   "execution_count": 176,
   "metadata": {},
   "outputs": [],
   "source": [
    "# creating new dict by merging dfs Profit/Losses-y is the monthly changes in pnl\n",
    "\n",
    "delta_df = pd.merge(df2, pnl_difference, right_index= True, left_index = True)"
   ]
  },
  {
   "cell_type": "code",
   "execution_count": 177,
   "metadata": {},
   "outputs": [
    {
     "name": "stdout",
     "output_type": "stream",
     "text": [
      "      Date  Profit/Losses_x  Profit/Losses_y\n",
      "0   Jan-10           867884              NaN\n",
      "1   Feb-10           984655         116771.0\n",
      "2   Mar-10           322013        -662642.0\n",
      "3   Apr-10           -69417        -391430.0\n",
      "4   May-10           310503         379920.0\n",
      "..     ...              ...              ...\n",
      "81  Oct-16           102685        -665765.0\n",
      "82  Nov-16           795914         693229.0\n",
      "83  Dec-16            60988        -734926.0\n",
      "84  Jan-17           138230          77242.0\n",
      "85  Feb-17           671099         532869.0\n",
      "\n",
      "[86 rows x 3 columns]\n"
     ]
    }
   ],
   "source": [
    "print(delta_df)"
   ]
  },
  {
   "cell_type": "code",
   "execution_count": 178,
   "metadata": {},
   "outputs": [],
   "source": [
    "#setting up new dataframe with appened monthly pnl change\n",
    "df3 = pd.DataFrame(delta_df)"
   ]
  },
  {
   "cell_type": "code",
   "execution_count": 179,
   "metadata": {},
   "outputs": [
    {
     "name": "stdout",
     "output_type": "stream",
     "text": [
      "      Date  Profit/Losses_x  Profit/Losses_y\n",
      "0   Jan-10           867884              NaN\n",
      "1   Feb-10           984655         116771.0\n",
      "2   Mar-10           322013        -662642.0\n",
      "3   Apr-10           -69417        -391430.0\n",
      "4   May-10           310503         379920.0\n",
      "..     ...              ...              ...\n",
      "81  Oct-16           102685        -665765.0\n",
      "82  Nov-16           795914         693229.0\n",
      "83  Dec-16            60988        -734926.0\n",
      "84  Jan-17           138230          77242.0\n",
      "85  Feb-17           671099         532869.0\n",
      "\n",
      "[86 rows x 3 columns]\n"
     ]
    }
   ],
   "source": [
    "print(df3)"
   ]
  },
  {
   "cell_type": "code",
   "execution_count": 180,
   "metadata": {},
   "outputs": [],
   "source": [
    "#renaming columns for readability\n",
    "df3.columns =['Date', 'Profit/Losses', 'MoMVariance']"
   ]
  },
  {
   "cell_type": "code",
   "execution_count": 197,
   "metadata": {},
   "outputs": [
    {
     "name": "stdout",
     "output_type": "stream",
     "text": [
      "      Date  Profit/Losses  MoMVariance\n",
      "0   Jan-10         867884          NaN\n",
      "1   Feb-10         984655     116771.0\n",
      "2   Mar-10         322013    -662642.0\n",
      "3   Apr-10         -69417    -391430.0\n",
      "4   May-10         310503     379920.0\n",
      "..     ...            ...          ...\n",
      "81  Oct-16         102685    -665765.0\n",
      "82  Nov-16         795914     693229.0\n",
      "83  Dec-16          60988    -734926.0\n",
      "84  Jan-17         138230      77242.0\n",
      "85  Feb-17         671099     532869.0\n",
      "\n",
      "[86 rows x 3 columns]\n"
     ]
    }
   ],
   "source": [
    "print(df3)"
   ]
  },
  {
   "cell_type": "code",
   "execution_count": 198,
   "metadata": {},
   "outputs": [
    {
     "data": {
      "text/plain": [
       "0           nan\n",
       "1      116771.0\n",
       "2     -662642.0\n",
       "3     -391430.0\n",
       "4      379920.0\n",
       "        ...    \n",
       "81    -665765.0\n",
       "82     693229.0\n",
       "83    -734926.0\n",
       "84      77242.0\n",
       "85     532869.0\n",
       "Name: MoMVariance, Length: 86, dtype: object"
      ]
     },
     "execution_count": 198,
     "metadata": {},
     "output_type": "execute_result"
    }
   ],
   "source": [
    "df3['MoMVariance'].astype(str)\n"
   ]
  },
  {
   "cell_type": "code",
   "execution_count": 202,
   "metadata": {},
   "outputs": [],
   "source": [
    "#locating the month with the greatest increse in profits\n",
    "max_month = df3.loc[df3['MoMVariance']== 1926159.0]"
   ]
  },
  {
   "cell_type": "code",
   "execution_count": 203,
   "metadata": {},
   "outputs": [
    {
     "name": "stdout",
     "output_type": "stream",
     "text": [
      "      Date  Profit/Losses  MoMVariance\n",
      "25  Feb-12        1170593    1926159.0\n"
     ]
    }
   ],
   "source": [
    "print(max_month)"
   ]
  },
  {
   "cell_type": "code",
   "execution_count": 206,
   "metadata": {},
   "outputs": [],
   "source": [
    "#locating the month with the greatest decrease in profits\n",
    "min_month = df3.loc[df3['MoMVariance']== -2196167.0]"
   ]
  },
  {
   "cell_type": "code",
   "execution_count": 207,
   "metadata": {},
   "outputs": [
    {
     "name": "stdout",
     "output_type": "stream",
     "text": [
      "      Date  Profit/Losses  MoMVariance\n",
      "44  Sep-13       -1196225   -2196167.0\n"
     ]
    }
   ],
   "source": [
    "print(min_month)"
   ]
  },
  {
   "cell_type": "code",
   "execution_count": 255,
   "metadata": {},
   "outputs": [],
   "source": [
    "total_months =num_months\n",
    "total_profits = net_profits.loc['Profit/Losses']\n",
    "average_change = pnl_change.loc['Profit/Losses']\n",
    "greatest_increase_month = max_month\n",
    "greatest_increase_amount = '$1926159'\n",
    "greatest_decrease_month = 'Sep-13'\n",
    "greatest_decrease_amount = '-$2196167'"
   ]
  },
  {
   "cell_type": "code",
   "execution_count": 258,
   "metadata": {},
   "outputs": [
    {
     "name": "stdout",
     "output_type": "stream",
     "text": [
      "Financial Analysis\n",
      "------------------------------------------------\n",
      "Total Months: 86\n",
      "Total: $38382578\n",
      "AverageChange: $-2289.0\n"
     ]
    }
   ],
   "source": [
    "print(\"Financial Analysis\")\n",
    "print(\"------------------------------------------------\")\n",
    "print(f\"Total Months: {total_months}\")\n",
    "print(f\"Total: ${total_profits}\")\n",
    "print(f\"AverageChange: ${average_change}\")\n"
   ]
  },
  {
   "cell_type": "code",
   "execution_count": null,
   "metadata": {},
   "outputs": [],
   "source": []
  }
 ],
 "metadata": {
  "kernelspec": {
   "display_name": "Python 3",
   "language": "python",
   "name": "python3"
  },
  "language_info": {
   "codemirror_mode": {
    "name": "ipython",
    "version": 3
   },
   "file_extension": ".py",
   "mimetype": "text/x-python",
   "name": "python",
   "nbconvert_exporter": "python",
   "pygments_lexer": "ipython3",
   "version": "3.8.3"
  }
 },
 "nbformat": 4,
 "nbformat_minor": 4
}
