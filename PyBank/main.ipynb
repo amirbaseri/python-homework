{
 "cells": [
  {
   "cell_type": "code",
   "execution_count": 1,
   "metadata": {},
   "outputs": [],
   "source": [
    "#importing pandas and defining the dataframe\n",
    "\n",
    "import pandas as pd\n",
    "df = pd.read_csv(\"budget_data.csv\")\n",
    "df2 = pd.read_csv(\"budget_data.csv\")"
   ]
  },
  {
   "cell_type": "code",
   "execution_count": 2,
   "metadata": {},
   "outputs": [],
   "source": [
    "#checking prior command\n",
    "#print(df)"
   ]
  },
  {
   "cell_type": "code",
   "execution_count": 3,
   "metadata": {},
   "outputs": [
    {
     "name": "stdout",
     "output_type": "stream",
     "text": [
      "38382578\n"
     ]
    }
   ],
   "source": [
    "monthly_pnl = df['Profit/Losses'].sum()\n",
    "monthly_pnl\n",
    "net_profits = monthly_pnl\n",
    "print(net_profits)"
   ]
  },
  {
   "cell_type": "code",
   "execution_count": 4,
   "metadata": {},
   "outputs": [],
   "source": [
    "#calculating number of periods in dataset\n",
    "num_months = (df.shape[0])"
   ]
  },
  {
   "cell_type": "code",
   "execution_count": 5,
   "metadata": {},
   "outputs": [],
   "source": [
    "#print(num_months)"
   ]
  },
  {
   "cell_type": "code",
   "execution_count": 6,
   "metadata": {},
   "outputs": [],
   "source": [
    "# calculating net profits for all periods"
   ]
  },
  {
   "cell_type": "code",
   "execution_count": null,
   "metadata": {},
   "outputs": [],
   "source": []
  },
  {
   "cell_type": "code",
   "execution_count": 7,
   "metadata": {},
   "outputs": [
    {
     "data": {
      "text/plain": [
       "Date             object\n",
       "Profit/Losses     int64\n",
       "dtype: object"
      ]
     },
     "execution_count": 7,
     "metadata": {},
     "output_type": "execute_result"
    }
   ],
   "source": [
    "#importing numpy library\n",
    "\n",
    "import numpy as np\n",
    "\n",
    "df.dtypes\n"
   ]
  },
  {
   "cell_type": "code",
   "execution_count": 8,
   "metadata": {},
   "outputs": [],
   "source": [
    "#checking datatypes and selecting what needs to be included in below calculation\n",
    "pnl_int = df.select_dtypes(include = ['int64'])"
   ]
  },
  {
   "cell_type": "code",
   "execution_count": 9,
   "metadata": {},
   "outputs": [],
   "source": [
    "#calculating difference in profit and loss between prior and next period for data set\n",
    "pnl_difference = pnl_int.diff()\n",
    "#print(pnl_difference)"
   ]
  },
  {
   "cell_type": "code",
   "execution_count": 10,
   "metadata": {},
   "outputs": [],
   "source": [
    "#calculating the average of the change in Profit/Loss over the entire dataset\n",
    "\n",
    "pnl_change = pnl_difference.sum() // num_months\n",
    "#print(pnl_change)"
   ]
  },
  {
   "cell_type": "code",
   "execution_count": 11,
   "metadata": {},
   "outputs": [],
   "source": [
    "# identifying the greatest increase in profits \n",
    "#max_increase = pnl_difference.max()\n",
    "max_increase = pnl_difference[\"Profit/Losses\"].max()\n",
    "#print(max_increase)"
   ]
  },
  {
   "cell_type": "code",
   "execution_count": 12,
   "metadata": {},
   "outputs": [
    {
     "name": "stdout",
     "output_type": "stream",
     "text": [
      "Profit/Losses   -2196167.0\n",
      "dtype: float64\n"
     ]
    }
   ],
   "source": [
    "#identifying the greatest drop\n",
    "\n",
    "max_decrease = pnl_difference.min()\n",
    "print(max_decrease)"
   ]
  },
  {
   "cell_type": "code",
   "execution_count": 13,
   "metadata": {},
   "outputs": [
    {
     "name": "stdout",
     "output_type": "stream",
     "text": [
      "86\n"
     ]
    }
   ],
   "source": [
    "# checking lenght for merge\n",
    "len_df2 = (df2.shape[0])\n",
    "print(len_df2)"
   ]
  },
  {
   "cell_type": "code",
   "execution_count": 14,
   "metadata": {},
   "outputs": [],
   "source": [
    "#checking length for merge\n",
    "len_pnl_difference = (pnl_difference.shape[0])\n",
    "#print(len_pnl_difference)"
   ]
  },
  {
   "cell_type": "code",
   "execution_count": 15,
   "metadata": {},
   "outputs": [],
   "source": [
    "# creating new dict by merging dfs Profit/Losses-y is the monthly changes in pnl\n",
    "\n",
    "delta_df = pd.merge(df2, pnl_difference, right_index= True, left_index = True)\n",
    "#print(delta_df)"
   ]
  },
  {
   "cell_type": "code",
   "execution_count": 16,
   "metadata": {},
   "outputs": [],
   "source": [
    "#setting up new dataframe with appened monthly pnl change\n",
    "df3 = pd.DataFrame(delta_df)\n",
    "#print(df3)"
   ]
  },
  {
   "cell_type": "code",
   "execution_count": 17,
   "metadata": {},
   "outputs": [],
   "source": [
    "#renaming columns for readability\n",
    "df3.columns =['Date', 'Profit/Losses', 'MoMVariance']\n",
    "#print(df3)"
   ]
  },
  {
   "cell_type": "code",
   "execution_count": 18,
   "metadata": {},
   "outputs": [
    {
     "data": {
      "text/html": [
       "<div>\n",
       "<style scoped>\n",
       "    .dataframe tbody tr th:only-of-type {\n",
       "        vertical-align: middle;\n",
       "    }\n",
       "\n",
       "    .dataframe tbody tr th {\n",
       "        vertical-align: top;\n",
       "    }\n",
       "\n",
       "    .dataframe thead th {\n",
       "        text-align: right;\n",
       "    }\n",
       "</style>\n",
       "<table border=\"1\" class=\"dataframe\">\n",
       "  <thead>\n",
       "    <tr style=\"text-align: right;\">\n",
       "      <th></th>\n",
       "      <th>Date</th>\n",
       "      <th>Profit/Losses</th>\n",
       "    </tr>\n",
       "    <tr>\n",
       "      <th>MoMVariance</th>\n",
       "      <th></th>\n",
       "      <th></th>\n",
       "    </tr>\n",
       "  </thead>\n",
       "  <tbody>\n",
       "    <tr>\n",
       "      <th>NaN</th>\n",
       "      <td>Jan-10</td>\n",
       "      <td>867884</td>\n",
       "    </tr>\n",
       "    <tr>\n",
       "      <th>116771.0</th>\n",
       "      <td>Feb-10</td>\n",
       "      <td>984655</td>\n",
       "    </tr>\n",
       "    <tr>\n",
       "      <th>-662642.0</th>\n",
       "      <td>Mar-10</td>\n",
       "      <td>322013</td>\n",
       "    </tr>\n",
       "    <tr>\n",
       "      <th>-391430.0</th>\n",
       "      <td>Apr-10</td>\n",
       "      <td>-69417</td>\n",
       "    </tr>\n",
       "    <tr>\n",
       "      <th>379920.0</th>\n",
       "      <td>May-10</td>\n",
       "      <td>310503</td>\n",
       "    </tr>\n",
       "    <tr>\n",
       "      <th>...</th>\n",
       "      <td>...</td>\n",
       "      <td>...</td>\n",
       "    </tr>\n",
       "    <tr>\n",
       "      <th>-665765.0</th>\n",
       "      <td>Oct-16</td>\n",
       "      <td>102685</td>\n",
       "    </tr>\n",
       "    <tr>\n",
       "      <th>693229.0</th>\n",
       "      <td>Nov-16</td>\n",
       "      <td>795914</td>\n",
       "    </tr>\n",
       "    <tr>\n",
       "      <th>-734926.0</th>\n",
       "      <td>Dec-16</td>\n",
       "      <td>60988</td>\n",
       "    </tr>\n",
       "    <tr>\n",
       "      <th>77242.0</th>\n",
       "      <td>Jan-17</td>\n",
       "      <td>138230</td>\n",
       "    </tr>\n",
       "    <tr>\n",
       "      <th>532869.0</th>\n",
       "      <td>Feb-17</td>\n",
       "      <td>671099</td>\n",
       "    </tr>\n",
       "  </tbody>\n",
       "</table>\n",
       "<p>86 rows × 2 columns</p>\n",
       "</div>"
      ],
      "text/plain": [
       "               Date  Profit/Losses\n",
       "MoMVariance                       \n",
       " NaN         Jan-10         867884\n",
       " 116771.0    Feb-10         984655\n",
       "-662642.0    Mar-10         322013\n",
       "-391430.0    Apr-10         -69417\n",
       " 379920.0    May-10         310503\n",
       "...             ...            ...\n",
       "-665765.0    Oct-16         102685\n",
       " 693229.0    Nov-16         795914\n",
       "-734926.0    Dec-16          60988\n",
       " 77242.0     Jan-17         138230\n",
       " 532869.0    Feb-17         671099\n",
       "\n",
       "[86 rows x 2 columns]"
      ]
     },
     "execution_count": 18,
     "metadata": {},
     "output_type": "execute_result"
    }
   ],
   "source": [
    "df3['MoMVariance'].astype(str)\n",
    "df3.set_index('MoMVariance')"
   ]
  },
  {
   "cell_type": "code",
   "execution_count": 19,
   "metadata": {},
   "outputs": [],
   "source": [
    "#locating the month with the greatest increse in profits\n",
    " \n",
    "max_month = df3.loc[df3['MoMVariance']== 1926159.0]\n",
    "#print(max_month)"
   ]
  },
  {
   "cell_type": "code",
   "execution_count": 20,
   "metadata": {},
   "outputs": [],
   "source": [
    "#here i am using the monthly change column as an index to return the dates values associated with them\n",
    "max_date = max_month.get([\"Date\"])\n",
    "\n",
    "max_amount = max_month.get([\"MoMVariance\"])\n",
    "\n",
    "maxfinal_date = max_date.to_csv(header = None, index = False)\n",
    "maxfinal_amount = max_amount.to_csv(header = None, index = False)\n",
    "#print(maxfinal_date)\n",
    "#print(maxfinal_amount)\n"
   ]
  },
  {
   "cell_type": "code",
   "execution_count": 21,
   "metadata": {},
   "outputs": [
    {
     "name": "stdout",
     "output_type": "stream",
     "text": [
      "      Date  Profit/Losses  MoMVariance\n",
      "44  Sep-13       -1196225   -2196167.0\n"
     ]
    }
   ],
   "source": [
    "#locating the month with the greatest decrease in profits\n",
    "min_month = df3.loc[df3['MoMVariance']== -2196167.0]\n",
    "print(min_month)"
   ]
  },
  {
   "cell_type": "code",
   "execution_count": null,
   "metadata": {},
   "outputs": [],
   "source": []
  },
  {
   "cell_type": "code",
   "execution_count": 22,
   "metadata": {},
   "outputs": [],
   "source": [
    "## formatting max and min values for text printing\n",
    "min_date = min_month.get([\"Date\"])\n",
    "minfinal_date = min_date.to_csv(header = None, index = False)\n",
    "\n",
    "min_amount = min_month.get([\"MoMVariance\"])\n",
    "minfinal_amount = min_amount.to_csv(header = None, index = False)\n",
    "\n",
    "\n",
    "#print(minfinal_date)\n",
    "#print(minfinal_amount)"
   ]
  },
  {
   "cell_type": "code",
   "execution_count": 23,
   "metadata": {},
   "outputs": [],
   "source": [
    "total_months =num_months\n",
    "total_profits = net_profits\n",
    "average_change = pnl_change.loc['Profit/Losses']\n",
    "greatest_increase_month = maxfinal_date\n",
    "greatest_increase_amount = maxfinal_amount\n",
    "greatest_decrease_month = minfinal_date\n",
    "greatest_decrease_amount = minfinal_amount"
   ]
  },
  {
   "cell_type": "code",
   "execution_count": 24,
   "metadata": {},
   "outputs": [
    {
     "name": "stdout",
     "output_type": "stream",
     "text": [
      "Financial Analysis\n",
      "------------------------------------------------\n",
      "Total Months: 86\n",
      "Total: $38382578\n",
      "AverageChange: $-2289.0\n",
      "The Greatest Increase in Profits:Feb-12\n",
      "($1926159.0\n",
      ")\n",
      "The Greatest Decrease in Profits:Sep-13\n",
      "($ -2196167.0\n",
      ")\n"
     ]
    }
   ],
   "source": [
    "\n",
    " \n",
    "print(\"Financial Analysis\", )\n",
    "print(\"------------------------------------------------\")\n",
    "print(f\"Total Months: {total_months}\")\n",
    "print(f\"Total: ${total_profits}\")\n",
    "print(f\"AverageChange: ${average_change}\")\n",
    "print(f\"The Greatest Increase in Profits:{greatest_increase_month}(${greatest_increase_amount})\") \n",
    "print(f\"The Greatest Decrease in Profits:{greatest_decrease_month}($ {greatest_decrease_amount})\")\n",
    "        \n"
   ]
  },
  {
   "cell_type": "code",
   "execution_count": 25,
   "metadata": {},
   "outputs": [],
   "source": [
    "\n",
    "with open(\"Output.txt\", \"a\") as f: \n",
    "    print(\"Financial Analysis\", file = f)\n",
    "    print(\"------------------------------------------------\", file = f)\n",
    "    print(f\"Total Months: {total_months}\", file = f)\n",
    "    print(f\"Total: ${total_profits}\", file = f)\n",
    "    print(f\"AverageChange: ${average_change}\", file = f)\n",
    "    print(f\"The Greatest Increase in Profits:{greatest_increase_month}(${greatest_increase_amount})\", file = f) \n",
    "    print(f\"The Greatest Decrease in Profits:{greatest_decrease_month}($ {greatest_decrease_amount})\", file = f)\n",
    "        \n"
   ]
  },
  {
   "cell_type": "code",
   "execution_count": null,
   "metadata": {},
   "outputs": [],
   "source": []
  },
  {
   "cell_type": "code",
   "execution_count": null,
   "metadata": {},
   "outputs": [],
   "source": []
  }
 ],
 "metadata": {
  "kernelspec": {
   "display_name": "Python 3",
   "language": "python",
   "name": "python3"
  },
  "language_info": {
   "codemirror_mode": {
    "name": "ipython",
    "version": 3
   },
   "file_extension": ".py",
   "mimetype": "text/x-python",
   "name": "python",
   "nbconvert_exporter": "python",
   "pygments_lexer": "ipython3",
   "version": "3.8.3"
  }
 },
 "nbformat": 4,
 "nbformat_minor": 4
}
